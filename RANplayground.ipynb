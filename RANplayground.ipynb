{
 "cells": [
  {
   "cell_type": "markdown",
   "id": "df345a31-d947-463d-832d-68a5175e4a7d",
   "metadata": {},
   "source": [
    "Building the dataset of numerical data"
   ]
  },
  {
   "cell_type": "code",
   "execution_count": 1,
   "id": "79b81166-b7ea-4668-a3d2-c09b9a9b246d",
   "metadata": {},
   "outputs": [],
   "source": [
    "### Import models\n",
    "import pandas as pd\n",
    "import numpy as np\n",
    "\n",
    "### Import self-made functions\n",
    "from CODE.features.length_title import length_title\n",
    "from CODE.features.field_variety import field_variety2\n",
    "from CODE.features.team_size import team_size"
   ]
  },
  {
   "cell_type": "code",
   "execution_count": 8,
   "id": "0b5a68c3-1b25-47c6-803d-09c9a1fc0427",
   "metadata": {},
   "outputs": [
    {
     "name": "stdout",
     "output_type": "stream",
     "text": [
      "X type: <class 'pandas.core.frame.DataFrame'> X shape: (9658, 2)\n",
      "y type: <class 'pandas.core.series.Series'> y shape: (9658,)\n"
     ]
    }
   ],
   "source": [
    "### Get the full train set:\n",
    "data = pd.read_json('DATA/train-1.json')   # Numerical columns: 'year', 'references', 'citations'\n",
    "\n",
    "### push the numerical columns to X and outcome to y\n",
    "end = len(data)\n",
    "num_X = data.loc[ 0:end+1 , ('year', 'references') ]\n",
    "num_y = data.loc[ 0:end+1 , ('citations') ]\n",
    "\n",
    "# print(type(data))\n",
    "# print(list(data.columns))\n",
    "print(\"X type:\", type(num_X), \"X shape:\", num_X.shape)\n",
    "print(\"y type:\", type(num_y), \"y shape:\", num_y.shape)\n",
    "#data"
   ]
  },
  {
   "cell_type": "code",
   "execution_count": 4,
   "id": "68726a90-eeae-4620-a94a-58c84df227bb",
   "metadata": {},
   "outputs": [],
   "source": [
    "# from StackExchange:\n",
    "# Never grow a DataFrame! It is always cheaper to append to a python list and then \n",
    "# convert it to a DataFrame at the end, both in terms of memory and performance.\n",
    "# When appending to df, a new DataFrame is created each time in memory instead of \n",
    "# using the existing one, which is quite frankly a waste. It is always cheaper to \n",
    "# append to a python list and then convert it to a DataFrame at the end, both in \n",
    "# terms of memory and performance.\n",
    "\n",
    "### bring in other numerical columns as lists\n",
    "title_len = length_title('DATA/train-1.json')  # returns: dictionary of lists\n",
    "field_variety = field_variety2(data)  #returns: dictionary of lists\n",
    "team_size = team_size(data)"
   ]
  },
  {
   "cell_type": "code",
   "execution_count": 5,
   "id": "2c81b85a-733f-4174-934e-6404551e0e07",
   "metadata": {},
   "outputs": [
    {
     "name": "stdout",
     "output_type": "stream",
     "text": [
      "<class 'dict'>\n",
      "<class 'dict'>\n",
      "<class 'pandas.core.series.Series'>\n"
     ]
    },
    {
     "data": {
      "text/plain": [
       "0       6\n",
       "1       5\n",
       "2       3\n",
       "3       2\n",
       "4       2\n",
       "       ..\n",
       "9653    4\n",
       "9654    4\n",
       "9655    2\n",
       "9656    4\n",
       "9657    3\n",
       "Length: 9658, dtype: int64"
      ]
     },
     "execution_count": 5,
     "metadata": {},
     "output_type": "execute_result"
    }
   ],
   "source": [
    "print(type(title_len))\n",
    "print(type(field_variety))\n",
    "print(type(team_size))\n",
    "#title_len\n",
    "#field_variety\n",
    "team_size"
   ]
  }
 ],
 "metadata": {
  "kernelspec": {
   "display_name": "Python 3",
   "language": "python",
   "name": "python3"
  },
  "language_info": {
   "codemirror_mode": {
    "name": "ipython",
    "version": 3
   },
   "file_extension": ".py",
   "mimetype": "text/x-python",
   "name": "python",
   "nbconvert_exporter": "python",
   "pygments_lexer": "ipython3",
   "version": "3.8.8"
  }
 },
 "nbformat": 4,
 "nbformat_minor": 5
}
