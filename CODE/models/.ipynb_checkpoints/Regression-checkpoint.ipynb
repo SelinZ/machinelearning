{
 "cells": [
  {
   "cell_type": "markdown",
   "id": "82559acd-629a-408c-91a2-a4cb920d7619",
   "metadata": {},
   "source": [
    "Basic regression model Using any continuous variables\n",
    "\n",
    "0. Establish data\n",
    "1. Define model: regression model: sklearn.linear_model.LinearRegression\n",
    "2. Fit model\n",
    "3. Predict\n",
    "4. Evaluate"
   ]
  },
  {
   "cell_type": "code",
   "execution_count": 1,
   "id": "405b78b8-3a06-4abf-87e4-d06ca63d80a8",
   "metadata": {},
   "outputs": [],
   "source": [
    "# 0. Establish data - merge this stuff with main\n",
    "# data = num_X from RANplayground"
   ]
  },
  {
   "cell_type": "code",
   "execution_count": 95,
   "id": "598dd323-8e61-4a77-be71-224a87d404e2",
   "metadata": {},
   "outputs": [
    {
     "ename": "ImportError",
     "evalue": "attempted relative import with no known parent package",
     "output_type": "error",
     "traceback": [
      "\u001b[1;31m---------------------------------------------------------------------------\u001b[0m",
      "\u001b[1;31mImportError\u001b[0m                               Traceback (most recent call last)",
      "\u001b[1;32m<ipython-input-95-645202972aeb>\u001b[0m in \u001b[0;36m<module>\u001b[1;34m\u001b[0m\n\u001b[1;32m----> 1\u001b[1;33m \u001b[1;32mfrom\u001b[0m \u001b[1;33m.\u001b[0m\u001b[1;33m.\u001b[0m\u001b[0mfeatures\u001b[0m\u001b[1;33m.\u001b[0m\u001b[0mvenue_frequency\u001b[0m \u001b[1;32mimport\u001b[0m \u001b[0mvenue_frequency\u001b[0m\u001b[1;33m\u001b[0m\u001b[1;33m\u001b[0m\u001b[0m\n\u001b[0m\u001b[0;32m      2\u001b[0m \u001b[1;31m#print(wd)\u001b[0m\u001b[1;33m\u001b[0m\u001b[1;33m\u001b[0m\u001b[1;33m\u001b[0m\u001b[0m\n\u001b[0;32m      3\u001b[0m \u001b[1;33m\u001b[0m\u001b[0m\n\u001b[0;32m      4\u001b[0m \u001b[1;33m\u001b[0m\u001b[0m\n\u001b[0;32m      5\u001b[0m \u001b[1;33m\u001b[0m\u001b[0m\n",
      "\u001b[1;31mImportError\u001b[0m: attempted relative import with no known parent package"
     ]
    }
   ],
   "source": [
    "# 1. define model\n",
    "\n",
    "from sklearn.linear_model import LinearRegression\n",
    "model = LinearRegression()\n",
    "\n",
    "\n",
    "\n",
    "\n",
    "reg = model.fit(X = X_train, y = y_train)  # 2. fit model\n",
    "print(\"Model weights:\", reg.coef_)\n",
    "print(\"Model intercept/bias:\", reg.intercept_)\n",
    "y_pred_val = model.predict(X_val)  # 3. predict\n",
    "a = r2_score(y_val, y_pred_val)  # 4. evaluate\n",
    "b = mean_absolute_error(y_val, y_pred_val)\n"
   ]
  }
 ],
 "metadata": {
  "kernelspec": {
   "display_name": "Python 3",
   "language": "python",
   "name": "python3"
  },
  "language_info": {
   "codemirror_mode": {
    "name": "ipython",
    "version": 3
   },
   "file_extension": ".py",
   "mimetype": "text/x-python",
   "name": "python",
   "nbconvert_exporter": "python",
   "pygments_lexer": "ipython3",
   "version": "3.8.8"
  }
 },
 "nbformat": 4,
 "nbformat_minor": 5
}
