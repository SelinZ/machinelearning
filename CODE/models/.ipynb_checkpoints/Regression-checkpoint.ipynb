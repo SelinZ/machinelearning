{
 "cells": [
  {
   "cell_type": "markdown",
   "id": "82559acd-629a-408c-91a2-a4cb920d7619",
   "metadata": {},
   "source": [
    "Basic regression model Using any continuous variables\n",
    "\n",
    "1. Establish data\n",
    "2. Define model: regression model: sklearn.linear_model.LinearRegression\n",
    "3. Fit model\n",
    "4. Predict\n",
    "5. Evaluate"
   ]
  },
  {
   "cell_type": "code",
   "execution_count": 85,
   "id": "3810ee1a-c6d9-4840-8e28-18e074fb1e71",
   "metadata": {},
   "outputs": [],
   "source": [
    "# 0. Import models\n",
    "import pandas as pd\n",
    "import numpy as np\n",
    "from sklearn.linear_model import LinearRegression\n",
    "\n",
    "# Import self-made functions\n",
    "#from ..CODE.features.length_title import length_title"
   ]
  },
  {
   "cell_type": "code",
   "execution_count": 86,
   "id": "405b78b8-3a06-4abf-87e4-d06ca63d80a8",
   "metadata": {},
   "outputs": [
    {
     "name": "stdout",
     "output_type": "stream",
     "text": [
      "9658\n",
      "9658\n"
     ]
    }
   ],
   "source": [
    "# 1. Establish data\n",
    "# Get the full train set:\n",
    "data = pd.read_json('../../DATA/train-1.json')   # Numerical columns: 'year', 'references', 'citations'\n",
    "# print(type(data))\n",
    "# print(list(data.columns))\n",
    "\n",
    "# push the numerical columns to X and outcome to y\n",
    "end = len(data)\n",
    "num_X = data.loc[ 0:end+1 , ('year', 'references') ]\n",
    "num_y = data.loc[ 0:end+1 , ('citations') ]\n",
    "print(len(num_X))\n",
    "print(len(num_y))"
   ]
  },
  {
   "cell_type": "code",
   "execution_count": 92,
   "id": "598dd323-8e61-4a77-be71-224a87d404e2",
   "metadata": {},
   "outputs": [
    {
     "ename": "NameError",
     "evalue": "name 'wd' is not defined",
     "output_type": "error",
     "traceback": [
      "\u001b[1;31m---------------------------------------------------------------------------\u001b[0m",
      "\u001b[1;31mNameError\u001b[0m                                 Traceback (most recent call last)",
      "\u001b[1;32m<ipython-input-92-1efd6906c689>\u001b[0m in \u001b[0;36m<module>\u001b[1;34m\u001b[0m\n\u001b[0;32m      1\u001b[0m \u001b[1;31m#from CODE.features.venue_frequency import venue_frequency\u001b[0m\u001b[1;33m\u001b[0m\u001b[1;33m\u001b[0m\u001b[1;33m\u001b[0m\u001b[0m\n\u001b[1;32m----> 2\u001b[1;33m \u001b[0mprint\u001b[0m\u001b[1;33m(\u001b[0m\u001b[0mwd\u001b[0m\u001b[1;33m)\u001b[0m\u001b[1;33m\u001b[0m\u001b[1;33m\u001b[0m\u001b[0m\n\u001b[0m\u001b[0;32m      3\u001b[0m \u001b[1;33m\u001b[0m\u001b[0m\n\u001b[0;32m      4\u001b[0m \u001b[1;33m\u001b[0m\u001b[0m\n\u001b[0;32m      5\u001b[0m \u001b[1;33m\u001b[0m\u001b[0m\n",
      "\u001b[1;31mNameError\u001b[0m: name 'wd' is not defined"
     ]
    }
   ],
   "source": [
    "#from CODE.features.venue_frequency import venue_frequency\n",
    "print(wd)\n",
    "\n",
    "\n",
    "\n",
    "# 1. define model\n",
    "model = LinearRegression()\n",
    "\n",
    "\n",
    "\n",
    "\n",
    "reg = model.fit(X = X_train, y = y_train)  # 2. fit model\n",
    "print(\"Model weights:\", reg.coef_)\n",
    "print(\"Model intercept/bias:\", reg.intercept_)\n",
    "y_pred_val = model.predict(X_val)  # 3. predict\n",
    "a = r2_score(y_val, y_pred_val)  # 4. evaluate\n",
    "b = mean_absolute_error(y_val, y_pred_val)\n"
   ]
  }
 ],
 "metadata": {
  "kernelspec": {
   "display_name": "Python 3",
   "language": "python",
   "name": "python3"
  },
  "language_info": {
   "codemirror_mode": {
    "name": "ipython",
    "version": 3
   },
   "file_extension": ".py",
   "mimetype": "text/x-python",
   "name": "python",
   "nbconvert_exporter": "python",
   "pygments_lexer": "ipython3",
   "version": "3.8.8"
  }
 },
 "nbformat": 4,
 "nbformat_minor": 5
}
