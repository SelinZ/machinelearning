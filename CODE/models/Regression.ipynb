{
 "cells": [
  {
   "cell_type": "code",
   "execution_count": 1,
   "id": "598dd323-8e61-4a77-be71-224a87d404e2",
   "metadata": {},
   "outputs": [],
   "source": [
    "def simple_linear(X_train, y_train, X_val, y_val):\n",
    "    from sklearn.linear_model import LinearRegression\n",
    "    from sklearn.metrics import r2_score, mean_absolute_error\n",
    "\n",
    "    model = LinearRegression()\n",
    "    reg = model.fit(X = X_train, y = y_train)\n",
    "    y_pred_val = model.predict(X_val)\n",
    "    r2 = (r2_score(y_val, y_pred_val))\n",
    "    mae = (mean_absolute_error(y_val, y_pred_val))\n",
    "    \n",
    "    return r2, mae"
   ]
  }
 ],
 "metadata": {
  "kernelspec": {
   "display_name": "Python 3 (ipykernel)",
   "language": "python",
   "name": "python3"
  },
  "language_info": {
   "codemirror_mode": {
    "name": "ipython",
    "version": 3
   },
   "file_extension": ".py",
   "mimetype": "text/x-python",
   "name": "python",
   "nbconvert_exporter": "python",
   "pygments_lexer": "ipython3",
   "version": "3.8.12"
  }
 },
 "nbformat": 4,
 "nbformat_minor": 5
}
